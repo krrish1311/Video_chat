{
 "cells": [
  {
   "cell_type": "code",
   "execution_count": null,
   "metadata": {},
   "outputs": [],
   "source": [
    "import socket\n",
    "import numpy as np\n",
    "import cv2 as cv\n",
    "import threading\n",
    "\n",
    "# client program socket to connect to the server program\n",
    "skt = socket.socket()\n",
    "skt.bind((\"192.168.43.49\", 4321)) \n",
    "server_ip = input(\"enter server ip: \")\n",
    "server_port = input(\"enter server port number: \")\n",
    "\n",
    "skt.connect((server_ip, int(server_port))) \n",
    "skt.send(b\"connected\")  # sending string as data\n",
    "cameraIndex = 0 # the camera to use i.e. laptop webcam\n",
    "camera = cv.VideoCapture(cameraIndex) # starting the camera\n",
    "\n",
    "# function for cleint to work as receiver\n",
    "def receiver():\n",
    "    framesLost = 0\n",
    "    print(\"Entered\")\n",
    "    while True:\n",
    "        framesLost += 1 # counting frame\n",
    "        data = skt.recv(100000000)  # receiving data with the size limit\n",
    "        if(data == b'finished'): # to stop receiving and stop camera\n",
    "            print(\"Finished\")\n",
    "            camera.release()\n",
    "            skt.close()\n",
    "        else:  \n",
    "            photo =  np.frombuffer(data, dtype=np.uint8)# converting the byte data into numpy array\n",
    "            if len(photo) == 640*480*3: # changing the array shape and getting the video\n",
    "                cv.imshow('From Server', photo.reshape(480, 640, 3))\n",
    "                 # camera closing condition and 13 is a enter key no.\n",
    "                if cv.waitKey(1) == 13:\n",
    "                    skt.send(b'finished')\n",
    "                    camera.release()\n",
    "                    cv.destroyAllWindows()\n",
    "                    break\n",
    "            else:\n",
    "                print(\"Lost {} frames\".format(framesLost) ) #counting the lost frames during video exchange\n",
    "\n",
    "# function for client to send the data of the video             \n",
    "def sender():\n",
    "    while True: # reading the camera data resizing and sending it as byte \n",
    "        status, photo = camera.read()\n",
    "        photo = cv.resize(photo, (640, 480))\n",
    "        \n",
    "        print(photo.shape)\n",
    "        if status:\n",
    "            skt.send(np.ndarray.tobytes(photo))\n",
    "        else: print(\"Could not get frame\")\n",
    "    camera.release()\n",
    "\n",
    "# threads to run both the functions\n",
    "threading.Thread(target=receiver).start()\n",
    "threading.Thread(target=sender).start()"
   ]
  },
  {
   "cell_type": "code",
   "execution_count": null,
   "metadata": {},
   "outputs": [],
   "source": []
  }
 ],
 "metadata": {
  "kernelspec": {
   "display_name": "Python 3",
   "language": "python",
   "name": "python3"
  },
  "language_info": {
   "codemirror_mode": {
    "name": "ipython",
    "version": 3
   },
   "file_extension": ".py",
   "mimetype": "text/x-python",
   "name": "python",
   "nbconvert_exporter": "python",
   "pygments_lexer": "ipython3",
   "version": "3.8.5"
  }
 },
 "nbformat": 4,
 "nbformat_minor": 4
}
